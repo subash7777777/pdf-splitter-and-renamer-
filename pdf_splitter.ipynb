{
 "cells": [
  {
   "cell_type": "code",
   "execution_count": 2,
   "id": "835632b3-b310-4dbc-b731-611f5fc4482f",
   "metadata": {},
   "outputs": [],
   "source": [
    "import streamlit as st\n",
    "import PyPDF2\n",
    "import pandas as pd\n",
    "import zipfile\n",
    "import os\n",
    "\n",
    "# Streamlit app title\n",
    "st.title(\"PDF Splitter and Renamer\")\n",
    "\n",
    "# Upload PDF file\n",
    "pdf_file = st.file_uploader(\"Upload PDF file\", type=[\"pdf\"])\n",
    "\n",
    "# Upload Excel file\n",
    "excel_file = st.file_uploader(\"Upload Excel file\", type=[\"xlsx\"])\n",
    "\n",
    "if pdf_file and excel_file:\n",
    "    # Read the Excel file\n",
    "    names_df = pd.read_excel(excel_file)\n",
    "    names_list = names_df.iloc[:, 0].tolist()  # Assuming names are in the first column\n",
    "\n",
    "    # Read the PDF file\n",
    "    pdf_reader = PyPDF2.PdfFileReader(pdf_file)\n",
    "\n",
    "    # Check if the number of pages matches the number of names\n",
    "    if pdf_reader.numPages != len(names_list):\n",
    "        st.error(\"The number of pages in the PDF does not match the number of names in the Excel file.\")\n",
    "    else:\n",
    "        # Create a directory to save the split PDF files\n",
    "        output_dir = \"split_pdfs\"\n",
    "        os.makedirs(output_dir, exist_ok=True)\n",
    "\n",
    "        # Split and save each page with the respective name\n",
    "        for i in range(pdf_reader.numPages):\n",
    "            pdf_writer = PyPDF2.PdfFileWriter()\n",
    "            pdf_writer.addPage(pdf_reader.getPage(i))\n",
    "            \n",
    "            output_filename = f\"{names_list[i]}.pdf\"\n",
    "            output_path = os.path.join(output_dir, output_filename)\n",
    "            with open(output_path, 'wb') as output_pdf:\n",
    "                pdf_writer.write(output_pdf)\n",
    "        \n",
    "        # Create a ZIP file containing all the split PDFs\n",
    "        zip_filename = \"split_pdfs.zip\"\n",
    "        with zipfile.ZipFile(zip_filename, 'w') as zipf:\n",
    "            for file in os.listdir(output_dir):\n",
    "                zipf.write(os.path.join(output_dir, file), file)\n",
    "        \n",
    "        # Provide a link to download the ZIP file\n",
    "        with open(zip_filename, \"rb\") as f:\n",
    "            st.download_button(\n",
    "                label=\"Download ZIP\",\n",
    "                data=f,\n",
    "                file_name=zip_filename,\n",
    "                mime=\"application/zip\"\n",
    "            )\n",
    "\n",
    "        st.success(\"PDF has been split and renamed successfully. Click the button above to download the files.\")\n"
   ]
  },
  {
   "cell_type": "code",
   "execution_count": null,
   "id": "7d31c05c-c694-4e66-9f5c-d579d31d085d",
   "metadata": {},
   "outputs": [],
   "source": []
  }
 ],
 "metadata": {
  "kernelspec": {
   "display_name": "Python 3 (ipykernel)",
   "language": "python",
   "name": "python3"
  },
  "language_info": {
   "codemirror_mode": {
    "name": "ipython",
    "version": 3
   },
   "file_extension": ".py",
   "mimetype": "text/x-python",
   "name": "python",
   "nbconvert_exporter": "python",
   "pygments_lexer": "ipython3",
   "version": "3.12.4"
  }
 },
 "nbformat": 4,
 "nbformat_minor": 5
}
